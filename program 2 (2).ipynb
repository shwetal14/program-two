{
 "cells": [
  {
   "cell_type": "code",
   "execution_count": 2,
   "id": "bf6815ca",
   "metadata": {},
   "outputs": [
    {
     "name": "stdout",
     "output_type": "stream",
     "text": [
      "Input a word to reverse:Edyoda\n",
      "adoydE\n",
      "\n"
     ]
    }
   ],
   "source": [
    "\n",
    "word = input(\"Input a word to reverse:\")\n",
    "\n",
    "for char in range(len(word) -1, -1, -1):\n",
    "    \n",
    "  print(word[char], end=\"\")\n",
    "\n",
    "print(\"\\n\")\n"
   ]
  },
  {
   "cell_type": "code",
   "execution_count": null,
   "id": "729f9a20",
   "metadata": {},
   "outputs": [],
   "source": []
  }
 ],
 "metadata": {
  "kernelspec": {
   "display_name": "Python 3 (ipykernel)",
   "language": "python",
   "name": "python3"
  },
  "language_info": {
   "codemirror_mode": {
    "name": "ipython",
    "version": 3
   },
   "file_extension": ".py",
   "mimetype": "text/x-python",
   "name": "python",
   "nbconvert_exporter": "python",
   "pygments_lexer": "ipython3",
   "version": "3.9.7"
  }
 },
 "nbformat": 4,
 "nbformat_minor": 5
}
